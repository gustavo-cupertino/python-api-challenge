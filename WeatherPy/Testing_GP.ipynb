{
 "cells": [
  {
   "cell_type": "code",
   "execution_count": 18,
   "id": "34846545",
   "metadata": {},
   "outputs": [],
   "source": [
    "# Dependencies and Setup\n",
    "import matplotlib.pyplot as plt\n",
    "import pandas as pd\n",
    "import numpy as np\n",
    "import requests\n",
    "import json\n",
    "from pprint import pprint\n",
    "import time\n",
    "from scipy.stats import linregress\n",
    "\n",
    "# Impor the OpenWeatherMap API key\n",
    "from api_keys import weather_api_key\n",
    "\n",
    "# Import citipy to determine the cities based on latitude and longitude\n",
    "from citipy import citipy"
   ]
  },
  {
   "cell_type": "code",
   "execution_count": 89,
   "id": "159a4617",
   "metadata": {},
   "outputs": [],
   "source": [
    "\n",
    "# Define an empty list to fetch the weather data for each city\n",
    "city_data = \"porto seguro\"\n"
   ]
  },
  {
   "cell_type": "code",
   "execution_count": 90,
   "id": "ff41688e",
   "metadata": {},
   "outputs": [],
   "source": [
    "# Set the API base URL\n",
    "url = \"https://api.openweathermap.org/data/2.5/weather?q=\""
   ]
  },
  {
   "cell_type": "code",
   "execution_count": 91,
   "id": "2f7fcb05",
   "metadata": {},
   "outputs": [],
   "source": [
    "# Create endpoint URL with each city\n",
    "    \n",
    "city_url = url + city_data + \"&appid=\" + weather_api_key + \"&units=metric\""
   ]
  },
  {
   "cell_type": "code",
   "execution_count": 92,
   "id": "ac53b865",
   "metadata": {},
   "outputs": [],
   "source": [
    " # Get weather data\n",
    "weather_response = requests.get(city_url)"
   ]
  },
  {
   "cell_type": "code",
   "execution_count": 93,
   "id": "70a5e036",
   "metadata": {},
   "outputs": [],
   "source": [
    "weather_json = weather_response.json()"
   ]
  },
  {
   "cell_type": "code",
   "execution_count": 94,
   "id": "33ea112c",
   "metadata": {},
   "outputs": [
    {
     "name": "stdout",
     "output_type": "stream",
     "text": [
      "{'base': 'stations',\n",
      " 'clouds': {'all': 0},\n",
      " 'cod': 200,\n",
      " 'coord': {'lat': -16.4497, 'lon': -39.0647},\n",
      " 'dt': 1675296308,\n",
      " 'id': 3452640,\n",
      " 'main': {'feels_like': 26.29,\n",
      "          'humidity': 83,\n",
      "          'pressure': 1014,\n",
      "          'temp': 26.29,\n",
      "          'temp_max': 26.29,\n",
      "          'temp_min': 26.29},\n",
      " 'name': 'Porto Seguro',\n",
      " 'sys': {'country': 'BR',\n",
      "         'id': 8422,\n",
      "         'sunrise': 1675239911,\n",
      "         'sunset': 1675286058,\n",
      "         'type': 1},\n",
      " 'timezone': -10800,\n",
      " 'visibility': 10000,\n",
      " 'weather': [{'description': 'clear sky',\n",
      "              'icon': '01n',\n",
      "              'id': 800,\n",
      "              'main': 'Clear'}],\n",
      " 'wind': {'deg': 70, 'speed': 4.12}}\n"
     ]
    }
   ],
   "source": [
    "pprint(weather_json)"
   ]
  },
  {
   "cell_type": "code",
   "execution_count": 95,
   "id": "df6f49b0",
   "metadata": {},
   "outputs": [],
   "source": [
    "city_lat = weather_json[\"coord\"][\"lat\"]\n",
    "city_lng = weather_json[\"coord\"][\"lon\"]\n",
    "city_max_temp = weather_json[\"main\"][\"temp_max\"]\n",
    "city_humidity = weather_json[\"main\"][\"humidity\"]\n",
    "city_clouds = weather_json[\"clouds\"][\"all\"]\n",
    "city_wind = weather_json[\"wind\"][\"speed\"]\n",
    "city_country = weather_json[\"sys\"][\"country\"]\n",
    "city_date = weather_json[\"dt\"]\n"
   ]
  },
  {
   "cell_type": "code",
   "execution_count": 96,
   "id": "e4daab3d",
   "metadata": {},
   "outputs": [
    {
     "name": "stdout",
     "output_type": "stream",
     "text": [
      "{'City': 'porto seguro', 'Lat': -16.4497, 'Lng': -39.0647, 'Max Temp': 26.29, 'Humidity': 83, 'Cloudiness': 0, 'Wind Speed': 4.12, 'Country': 'BR', 'Date': 1675296308}\n"
     ]
    }
   ],
   "source": [
    "# Append the City information into city_data list\n",
    "print({\"City\": city_data, \n",
    "                  \"Lat\": city_lat, \n",
    "                  \"Lng\": city_lng, \n",
    "                  \"Max Temp\": city_max_temp, \n",
    "                  \"Humidity\": city_humidity, \n",
    "                  \"Cloudiness\": city_clouds, \n",
    "                  \"Wind Speed\": city_wind, \n",
    "                  \"Country\": city_country, \n",
    "                  \"Date\": city_date})"
   ]
  },
  {
   "cell_type": "code",
   "execution_count": null,
   "id": "48ae851f",
   "metadata": {},
   "outputs": [],
   "source": []
  },
  {
   "cell_type": "code",
   "execution_count": null,
   "id": "0c4d9262",
   "metadata": {},
   "outputs": [],
   "source": []
  },
  {
   "cell_type": "code",
   "execution_count": null,
   "id": "8e627caf",
   "metadata": {},
   "outputs": [],
   "source": []
  },
  {
   "cell_type": "code",
   "execution_count": null,
   "id": "d96aaa5b",
   "metadata": {},
   "outputs": [],
   "source": []
  }
 ],
 "metadata": {
  "kernelspec": {
   "display_name": "PythonData",
   "language": "python",
   "name": "pythondata"
  },
  "language_info": {
   "codemirror_mode": {
    "name": "ipython",
    "version": 3
   },
   "file_extension": ".py",
   "mimetype": "text/x-python",
   "name": "python",
   "nbconvert_exporter": "python",
   "pygments_lexer": "ipython3",
   "version": "3.7.7"
  }
 },
 "nbformat": 4,
 "nbformat_minor": 5
}
