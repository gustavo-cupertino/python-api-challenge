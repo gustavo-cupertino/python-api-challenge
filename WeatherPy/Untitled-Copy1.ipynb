{
 "cells": [
  {
   "cell_type": "code",
   "execution_count": 4,
   "id": "317eecc2",
   "metadata": {},
   "outputs": [],
   "source": [
    "# Dependencies and Setup\n",
    "import matplotlib.pyplot as plt\n",
    "import pandas as pd\n",
    "import numpy as np\n",
    "import requests\n",
    "import json\n",
    "from pprint import pprint\n",
    "import time\n",
    "from scipy.stats import linregress\n",
    "\n",
    "# Impor the OpenWeatherMap API key\n",
    "from api_keys import weather_api_key\n",
    "\n",
    "# Import citipy to determine the cities based on latitude and longitude\n",
    "from citipy import citipy"
   ]
  },
  {
   "cell_type": "code",
   "execution_count": 5,
   "id": "3c4b87b3",
   "metadata": {},
   "outputs": [],
   "source": [
    "city_data = \"Saint John\""
   ]
  },
  {
   "cell_type": "code",
   "execution_count": 6,
   "id": "cd82daa3",
   "metadata": {},
   "outputs": [],
   "source": [
    "# Set the API base URL\n",
    "url = \"https://api.openweathermap.org/data/2.5/weather?\""
   ]
  },
  {
   "cell_type": "code",
   "execution_count": 7,
   "id": "d3a6156b",
   "metadata": {},
   "outputs": [],
   "source": [
    "# Create endpoint URL with each city\n",
    "    \n",
    "city_url = url + \"appid=\" + weather_api_key + \"&q=\" + city_data"
   ]
  },
  {
   "cell_type": "code",
   "execution_count": 8,
   "id": "bf99131e",
   "metadata": {},
   "outputs": [],
   "source": [
    " # Get weather data\n",
    "weather_response = requests.get(city_url)"
   ]
  },
  {
   "cell_type": "code",
   "execution_count": 9,
   "id": "78a2c763",
   "metadata": {},
   "outputs": [],
   "source": [
    "weather_json = weather_response.json()"
   ]
  },
  {
   "cell_type": "code",
   "execution_count": 10,
   "id": "b4e11978",
   "metadata": {},
   "outputs": [
    {
     "name": "stdout",
     "output_type": "stream",
     "text": [
      "{\n",
      "    \"base\": \"stations\",\n",
      "    \"clouds\": {\n",
      "        \"all\": 20\n",
      "    },\n",
      "    \"cod\": 200,\n",
      "    \"coord\": {\n",
      "        \"lat\": 45.2727,\n",
      "        \"lon\": -66.0677\n",
      "    },\n",
      "    \"dt\": 1675275972,\n",
      "    \"id\": 6138517,\n",
      "    \"main\": {\n",
      "        \"feels_like\": 259.61,\n",
      "        \"humidity\": 48,\n",
      "        \"pressure\": 1022,\n",
      "        \"temp\": 263.72,\n",
      "        \"temp_max\": 266.15,\n",
      "        \"temp_min\": 263.72\n",
      "    },\n",
      "    \"name\": \"Saint John\",\n",
      "    \"sys\": {\n",
      "        \"country\": \"CA\",\n",
      "        \"id\": 930,\n",
      "        \"sunrise\": 1675251907,\n",
      "        \"sunset\": 1675287025,\n",
      "        \"type\": 1\n",
      "    },\n",
      "    \"timezone\": -14400,\n",
      "    \"visibility\": 10000,\n",
      "    \"weather\": [\n",
      "        {\n",
      "            \"description\": \"few clouds\",\n",
      "            \"icon\": \"02d\",\n",
      "            \"id\": 801,\n",
      "            \"main\": \"Clouds\"\n",
      "        }\n",
      "    ],\n",
      "    \"wind\": {\n",
      "        \"deg\": 320,\n",
      "        \"speed\": 2.06\n",
      "    }\n",
      "}\n"
     ]
    }
   ],
   "source": [
    "print(json.dumps(weather_json, indent=4, sort_keys=True))"
   ]
  },
  {
   "cell_type": "code",
   "execution_count": 32,
   "id": "0456a6bf",
   "metadata": {},
   "outputs": [
    {
     "name": "stdout",
     "output_type": "stream",
     "text": [
      "{'base': 'stations',\n",
      " 'clouds': {'all': 20},\n",
      " 'cod': 200,\n",
      " 'coord': {'lat': 45.2727, 'lon': -66.0677},\n",
      " 'dt': 1675275972,\n",
      " 'id': 6138517,\n",
      " 'main': {'feels_like': 259.61,\n",
      "          'humidity': 48,\n",
      "          'pressure': 1022,\n",
      "          'temp': 263.72,\n",
      "          'temp_max': 266.15,\n",
      "          'temp_min': 263.72},\n",
      " 'name': 'Saint John',\n",
      " 'sys': {'country': 'CA',\n",
      "         'id': 930,\n",
      "         'sunrise': 1675251907,\n",
      "         'sunset': 1675287025,\n",
      "         'type': 1},\n",
      " 'timezone': -14400,\n",
      " 'visibility': 10000,\n",
      " 'weather': [{'description': 'few clouds',\n",
      "              'icon': '02d',\n",
      "              'id': 801,\n",
      "              'main': 'Clouds'}],\n",
      " 'wind': {'deg': 320, 'speed': 2.06}}\n"
     ]
    }
   ],
   "source": [
    "pprint(weather_json)"
   ]
  },
  {
   "cell_type": "code",
   "execution_count": null,
   "id": "82c5adf8",
   "metadata": {},
   "outputs": [],
   "source": []
  },
  {
   "cell_type": "code",
   "execution_count": null,
   "id": "eb4698ad",
   "metadata": {},
   "outputs": [],
   "source": []
  }
 ],
 "metadata": {
  "kernelspec": {
   "display_name": "PythonData",
   "language": "python",
   "name": "pythondata"
  },
  "language_info": {
   "codemirror_mode": {
    "name": "ipython",
    "version": 3
   },
   "file_extension": ".py",
   "mimetype": "text/x-python",
   "name": "python",
   "nbconvert_exporter": "python",
   "pygments_lexer": "ipython3",
   "version": "3.7.7"
  }
 },
 "nbformat": 4,
 "nbformat_minor": 5
}
